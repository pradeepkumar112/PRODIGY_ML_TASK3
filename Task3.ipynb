{
 "cells": [
  {
   "cell_type": "code",
   "execution_count": 1,
   "id": "ee06694f",
   "metadata": {},
   "outputs": [],
   "source": [
    "import pandas as pd\n",
    "import numpy as np\n",
    "import tensorflow as tf\n",
    "\n",
    "import warnings\n",
    "warnings.filterwarnings('ignore')"
   ]
  },
  {
   "cell_type": "code",
   "execution_count": 2,
   "id": "60061e8b",
   "metadata": {},
   "outputs": [],
   "source": [
    "from tensorflow.compat.v1 import ConfigProto\n",
    "from tensorflow.compat.v1 import InteractiveSession\n",
    "\n",
    "config = ConfigProto()\n",
    "config.gpu_options.per_process_gpu_memory_fraction = 0.6\n",
    "config.gpu_options.allow_growth = True\n",
    "session = InteractiveSession(config=config)"
   ]
  },
  {
   "cell_type": "code",
   "execution_count": 5,
   "id": "f5129c98",
   "metadata": {},
   "outputs": [
    {
     "name": "stdout",
     "output_type": "stream",
     "text": [
      "Found 8005 images belonging to 2 classes.\n"
     ]
    }
   ],
   "source": [
    "from tensorflow.keras.preprocessing.image import ImageDataGenerator\n",
    "\n",
    "datagen = ImageDataGenerator(rescale=1./255, shear_range=0.2, zoom_range=0.2, horizontal_flip=True)\n",
    "\n",
    "training_set = datagen.flow_from_directory(\n",
    "        r\"C:\\Users\\HP\\OneDrive\\Desktop\\PYTHON\\Prodigy\\training_set\",\n",
    "        target_size=(64, 64),\n",
    "        batch_size=32,\n",
    "        class_mode=\"binary\"\n",
    "      )"
   ]
  },
  {
   "cell_type": "code",
   "execution_count": 7,
   "id": "a0f0aeca",
   "metadata": {},
   "outputs": [
    {
     "name": "stdout",
     "output_type": "stream",
     "text": [
      "Found 2023 images belonging to 2 classes.\n"
     ]
    }
   ],
   "source": [
    "datagen1 = ImageDataGenerator(rescale=1./255)\n",
    "\n",
    "test_set = datagen1.flow_from_directory(\n",
    "        r\"C:\\Users\\HP\\OneDrive\\Desktop\\PYTHON\\Prodigy\\test_set\",\n",
    "        target_size=(64, 64),\n",
    "        batch_size=32,\n",
    "        class_mode=\"binary\"\n",
    "      )"
   ]
  },
  {
   "cell_type": "code",
   "execution_count": 8,
   "id": "17833d7c",
   "metadata": {},
   "outputs": [],
   "source": [
    "#Creating the Model\n",
    "#Importing useful models for CNN Layers\n",
    "from tensorflow.keras.layers import Conv2D\n",
    "from tensorflow.keras.layers import Dense\n",
    "from tensorflow.keras.regularizers import l2"
   ]
  },
  {
   "cell_type": "code",
   "execution_count": 10,
   "id": "06f46589",
   "metadata": {},
   "outputs": [],
   "source": [
    "cnn = tf.keras.models.Sequential()"
   ]
  },
  {
   "cell_type": "code",
   "execution_count": 11,
   "id": "99eebc04",
   "metadata": {},
   "outputs": [],
   "source": [
    "cnn.add(tf.keras.layers.Conv2D(filters=32,padding=\"same\",kernel_size=3, activation='relu', strides=2, input_shape=[64, 64, 3]))"
   ]
  },
  {
   "cell_type": "code",
   "execution_count": 12,
   "id": "3317b22d",
   "metadata": {},
   "outputs": [],
   "source": [
    "cnn.add(tf.keras.layers.MaxPool2D(pool_size=2, strides=2))"
   ]
  },
  {
   "cell_type": "code",
   "execution_count": 13,
   "id": "01fd2ab0",
   "metadata": {},
   "outputs": [],
   "source": [
    "cnn.add(tf.keras.layers.Conv2D(filters=32,padding='same',kernel_size=3, activation='relu'))\n",
    "cnn.add(tf.keras.layers.MaxPool2D(pool_size=2, strides=2))"
   ]
  },
  {
   "cell_type": "code",
   "execution_count": 14,
   "id": "8a2f83af",
   "metadata": {},
   "outputs": [],
   "source": [
    "cnn.add(tf.keras.layers.Flatten())\n",
    "\n"
   ]
  },
  {
   "cell_type": "code",
   "execution_count": 15,
   "id": "8fdaf9d9",
   "metadata": {},
   "outputs": [],
   "source": [
    "cnn.add(tf.keras.layers.Dense(units=128, activation='relu'))\n"
   ]
  },
  {
   "cell_type": "code",
   "execution_count": 16,
   "id": "221e3af0",
   "metadata": {},
   "outputs": [],
   "source": [
    "cnn.add(Dense(1, kernel_regularizer=tf.keras.regularizers.l2(0.01),activation\n",
    "             ='linear'))"
   ]
  },
  {
   "cell_type": "code",
   "execution_count": 17,
   "id": "9cf3836b",
   "metadata": {},
   "outputs": [
    {
     "name": "stdout",
     "output_type": "stream",
     "text": [
      "Model: \"sequential_1\"\n",
      "_________________________________________________________________\n",
      " Layer (type)                Output Shape              Param #   \n",
      "=================================================================\n",
      " conv2d (Conv2D)             (None, 32, 32, 32)        896       \n",
      "                                                                 \n",
      " max_pooling2d (MaxPooling2  (None, 16, 16, 32)        0         \n",
      " D)                                                              \n",
      "                                                                 \n",
      " conv2d_1 (Conv2D)           (None, 16, 16, 32)        9248      \n",
      "                                                                 \n",
      " max_pooling2d_1 (MaxPoolin  (None, 8, 8, 32)          0         \n",
      " g2D)                                                            \n",
      "                                                                 \n",
      " flatten (Flatten)           (None, 2048)              0         \n",
      "                                                                 \n",
      " dense (Dense)               (None, 128)               262272    \n",
      "                                                                 \n",
      " dense_1 (Dense)             (None, 1)                 129       \n",
      "                                                                 \n",
      "=================================================================\n",
      "Total params: 272545 (1.04 MB)\n",
      "Trainable params: 272545 (1.04 MB)\n",
      "Non-trainable params: 0 (0.00 Byte)\n",
      "_________________________________________________________________\n"
     ]
    }
   ],
   "source": [
    "cnn.summary()"
   ]
  },
  {
   "cell_type": "code",
   "execution_count": 18,
   "id": "4b7e3ea4",
   "metadata": {},
   "outputs": [],
   "source": [
    "#Training CNN\n",
    "cnn.compile(optimizer = 'adam', loss = 'hinge', metrics = ['accuracy'])\n"
   ]
  },
  {
   "cell_type": "code",
   "execution_count": 19,
   "id": "1407fb3e",
   "metadata": {},
   "outputs": [
    {
     "name": "stdout",
     "output_type": "stream",
     "text": [
      "Epoch 1/15\n",
      "251/251 [==============================] - 98s 386ms/step - loss: 0.9128 - accuracy: 0.5644 - val_loss: 0.9081 - val_accuracy: 0.6451\n",
      "Epoch 2/15\n",
      "251/251 [==============================] - 41s 162ms/step - loss: 0.7336 - accuracy: 0.6641 - val_loss: 0.6722 - val_accuracy: 0.6530\n",
      "Epoch 3/15\n",
      "251/251 [==============================] - 46s 182ms/step - loss: 0.6652 - accuracy: 0.6839 - val_loss: 0.6205 - val_accuracy: 0.7098\n",
      "Epoch 4/15\n",
      "251/251 [==============================] - 45s 180ms/step - loss: 0.6267 - accuracy: 0.7104 - val_loss: 0.5984 - val_accuracy: 0.7479\n",
      "Epoch 5/15\n",
      "251/251 [==============================] - 46s 183ms/step - loss: 0.6056 - accuracy: 0.7161 - val_loss: 0.5865 - val_accuracy: 0.7133\n",
      "Epoch 6/15\n",
      "251/251 [==============================] - 43s 173ms/step - loss: 0.5801 - accuracy: 0.7287 - val_loss: 0.5463 - val_accuracy: 0.7415\n",
      "Epoch 7/15\n",
      "251/251 [==============================] - 46s 184ms/step - loss: 0.5598 - accuracy: 0.7408 - val_loss: 0.5384 - val_accuracy: 0.7578\n",
      "Epoch 8/15\n",
      "251/251 [==============================] - 44s 177ms/step - loss: 0.5414 - accuracy: 0.7465 - val_loss: 0.5388 - val_accuracy: 0.7677\n",
      "Epoch 9/15\n",
      "251/251 [==============================] - 78s 312ms/step - loss: 0.5324 - accuracy: 0.7477 - val_loss: 0.5583 - val_accuracy: 0.7696\n",
      "Epoch 10/15\n",
      "251/251 [==============================] - 64s 256ms/step - loss: 0.5159 - accuracy: 0.7590 - val_loss: 0.5204 - val_accuracy: 0.7805\n",
      "Epoch 11/15\n",
      "251/251 [==============================] - 46s 182ms/step - loss: 0.5012 - accuracy: 0.7653 - val_loss: 0.5034 - val_accuracy: 0.7904\n",
      "Epoch 12/15\n",
      "251/251 [==============================] - 43s 172ms/step - loss: 0.4865 - accuracy: 0.7746 - val_loss: 0.5208 - val_accuracy: 0.7810\n",
      "Epoch 13/15\n",
      "251/251 [==============================] - 44s 176ms/step - loss: 0.4813 - accuracy: 0.7793 - val_loss: 0.5536 - val_accuracy: 0.7870\n",
      "Epoch 14/15\n",
      "251/251 [==============================] - 44s 175ms/step - loss: 0.4834 - accuracy: 0.7774 - val_loss: 0.5010 - val_accuracy: 0.7889\n",
      "Epoch 15/15\n",
      "251/251 [==============================] - 46s 182ms/step - loss: 0.4623 - accuracy: 0.7866 - val_loss: 0.4867 - val_accuracy: 0.7855\n"
     ]
    }
   ],
   "source": [
    "r=cnn.fit(x = training_set, validation_data = test_set, epochs = 15)\n"
   ]
  },
  {
   "cell_type": "code",
   "execution_count": 20,
   "id": "69c11900",
   "metadata": {},
   "outputs": [
    {
     "data": {
      "image/png": "[encoded data removed]",
      "text/plain": [
       "<Figure size 640x480 with 1 Axes>"
      ]
     },
     "metadata": {},
     "output_type": "display_data"
    },
    {
     "data": {
      "image/png": "[encoded data removed]",
      "text/plain": [
       "<Figure size 640x480 with 1 Axes>"
      ]
     },
     "metadata": {},
     "output_type": "display_data"
    }
   ],
   "source": [
    "# plot the loss\n",
    "import matplotlib.pyplot as plt\n",
    "plt.plot(r.history['loss'], label='train loss')\n",
    "plt.plot(r.history['val_loss'], label='val loss')\n",
    "plt.legend()\n",
    "plt.show()\n",
    "\n",
    "# plot the accuracy\n",
    "plt.plot(r.history['accuracy'], label='train acc')\n",
    "plt.plot(r.history['val_accuracy'], label='val acc')\n",
    "plt.legend()\n",
    "plt.show()"
   ]
  },
  {
   "cell_type": "code",
   "execution_count": 23,
   "id": "c33b4ab2",
   "metadata": {},
   "outputs": [
    {
     "name": "stdout",
     "output_type": "stream",
     "text": [
      "INFO:tensorflow:Assets written to: C:\\Users\\HP\\OneDrive\\Desktop\\PYTHON\\Prodigy\\assets\n"
     ]
    },
    {
     "name": "stderr",
     "output_type": "stream",
     "text": [
      "INFO:tensorflow:Assets written to: C:\\Users\\HP\\OneDrive\\Desktop\\PYTHON\\Prodigy\\assets\n"
     ]
    },
    {
     "name": "stdout",
     "output_type": "stream",
     "text": [
      "1/1 [==============================] - 0s 109ms/step\n"
     ]
    }
   ],
   "source": [
    "#Saving the trained model¶\n",
    "from tensorflow.keras.models import load_model\n",
    "\n",
    "cnn.save(r'C:\\Users\\HP\\OneDrive\\Desktop\\PYTHON\\Prodigy')\n",
    "#Taking the sample image converting the image to an array and predicting the result\n",
    "from tensorflow.keras.preprocessing import image\n",
    "test_image = image.load_img(r\"C:\\Users\\HP\\OneDrive\\Pictures\\360_F_266724172_Iy8gdKgMa7XmrhYYxLCxyhx6J7070Pr8.jpg\", target_size = (64,64))\n",
    "test_image = image.img_to_array(test_image)\n",
    "test_image=test_image/255\n",
    "test_image = np.expand_dims(test_image, axis = 0)\n",
    "result = cnn.predict(test_image)"
   ]
  },
  {
   "cell_type": "code",
   "execution_count": 24,
   "id": "6fbdf584",
   "metadata": {},
   "outputs": [
    {
     "name": "stdout",
     "output_type": "stream",
     "text": [
      "The image classified is cat\n"
     ]
    }
   ],
   "source": [
    "if result[0]<0:\n",
    "    print(\"The image classified is cat\")\n",
    "else:\n",
    "    print(\"The image classified is dog\")"
   ]
  },
  {
   "cell_type": "code",
   "execution_count": null,
   "id": "22d72ae0",
   "metadata": {},
   "outputs": [],
   "source": []
  }
 ],
 "metadata": {
  "kernelspec": {
   "display_name": "Python 3 (ipykernel)",
   "language": "python",
   "name": "python3"
  },
  "language_info": {
   "codemirror_mode": {
    "name": "ipython",
    "version": 3
   },
   "file_extension": ".py",
   "mimetype": "text/x-python",
   "name": "python",
   "nbconvert_exporter": "python",
   "pygments_lexer": "ipython3",
   "version": "3.9.12"
  }
 },
 "nbformat": 4,
 "nbformat_minor": 5
}
